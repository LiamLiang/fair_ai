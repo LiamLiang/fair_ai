{
 "cells": [
  {
   "cell_type": "markdown",
   "metadata": {},
   "source": [
    "# Detecting biases in black-box AI models using inspirations from Psychology: a tutorial and applications in Python: demo  \n",
    "Daniel Acuna and Lizhen Liang  \n",
    "ADSA Annual meeting  \n",
    "October 14-16, 2020 | 8am-3pm Pacific time, daily"
   ]
  },
  {
   "cell_type": "code",
   "execution_count": null,
   "metadata": {},
   "outputs": [],
   "source": [
    "!pip install scipy\n",
    "!pip install pandas\n",
    "!pip install numpy\n",
    "!pip install matplotlib"
   ]
  },
  {
   "cell_type": "markdown",
   "metadata": {},
   "source": [
    "Loading the package"
   ]
  },
  {
   "cell_type": "code",
   "execution_count": null,
   "metadata": {},
   "outputs": [],
   "source": [
    "from fair_AI import load_pretrain\n",
    "from fair_AI.detection import twoafc_experiment, bisect_search, psy_cur, pse, similarity"
   ]
  },
  {
   "cell_type": "markdown",
   "metadata": {},
   "source": [
    "The following code download and loads the 100 dimentional GloVe model and assign it to a Python dictionary|"
   ]
  },
  {
   "cell_type": "code",
   "execution_count": null,
   "metadata": {},
   "outputs": [],
   "source": [
    "embeddings_dict = load_pretrain.get_glove_100d()"
   ]
  },
  {
   "cell_type": "markdown",
   "metadata": {},
   "source": [
    "Showing word vectors: the similarity between man and king is almost equal to the similarity between woman and queen."
   ]
  },
  {
   "cell_type": "code",
   "execution_count": null,
   "metadata": {},
   "outputs": [],
   "source": [
    "similarity(embeddings_dict.get('man'), embeddings_dict.get('king')) \\\n",
    "    - similarity(embeddings_dict.get('woman'), embeddings_dict.get('queen'))"
   ]
  },
  {
   "cell_type": "markdown",
   "metadata": {},
   "source": [
    "Calculating psychometric curve: showing that when there is more woman in \"nurse\", we couldn't decide whether a nurse is man or woman given word vectors, which means that according to word vectors, a nurse is more likely to be a woman."
   ]
  },
  {
   "cell_type": "code",
   "execution_count": null,
   "metadata": {},
   "outputs": [],
   "source": [
    "psy_cur('woman', 'man', 'nurse', embeddings_dict)"
   ]
  },
  {
   "cell_type": "markdown",
   "metadata": {},
   "source": [
    "We now do the same thing at scale: we now define a set of target words, which are all occupations. On the other hand, we have a handful of word pairs indicating male and female:"
   ]
  },
  {
   "cell_type": "code",
   "execution_count": null,
   "metadata": {},
   "outputs": [],
   "source": [
    "careers = ['technician', 'accountant', 'supervisor', 'engineer', 'worker', 'educator', 'clerk', 'counselor', 'inspector', \n",
    "           'mechanic', 'manager', 'therapist', 'administrator', 'salesperson', 'receptionist', 'librarian', 'advisor', \n",
    "           'pharmacist', 'janitor', 'psychologist', 'physician', 'carpenter', 'nurse', 'investigator', 'bartender', \n",
    "           'specialist', 'electrician', 'officer', 'pathologist', 'teacher', 'lawyer', 'planner', 'practitioner', \n",
    "           'plumber', 'instructor', 'surgeon', 'veterinarian', 'paramedic', 'examiner', 'chemist', 'machinist', \n",
    "           'appraiser', 'nutritionist', 'architect', 'hairdresser', 'baker', 'programmer', 'paralegal', 'hygienist', 'scientist']\n",
    "\n",
    "gender_pairs = []\n",
    "gender_pairs.append(['woman', 'man'])\n",
    "gender_pairs.append(['female', 'male'])\n",
    "gender_pairs.append(['she', 'he'])\n",
    "gender_pairs.append(['her', 'him'])\n",
    "gender_pairs.append(['hers', 'his'])\n",
    "gender_pairs.append(['daughter', 'son'])\n",
    "gender_pairs.append(['girl', 'boy'])\n",
    "gender_pairs.append(['sister', 'brother'])"
   ]
  },
  {
   "cell_type": "markdown",
   "metadata": {},
   "source": [
    "We can calculate the points of subjective equivalence and visualize them:"
   ]
  },
  {
   "cell_type": "code",
   "execution_count": null,
   "metadata": {
    "scrolled": false
   },
   "outputs": [],
   "source": [
    "pse(gender_pairs, careers, embeddings_dict)"
   ]
  },
  {
   "cell_type": "markdown",
   "metadata": {},
   "source": [
    "We can also define other target words and word pairs:"
   ]
  },
  {
   "cell_type": "code",
   "execution_count": null,
   "metadata": {},
   "outputs": [],
   "source": [
    "# targets = []\n",
    "# pairs = []\n",
    "# pairs.append([])\n",
    "# pse(pairs, targets, embeddings_dict)"
   ]
  }
 ],
 "metadata": {
  "kernelspec": {
   "display_name": "Python 3",
   "language": "python",
   "name": "python3"
  },
  "language_info": {
   "codemirror_mode": {
    "name": "ipython",
    "version": 3
   },
   "file_extension": ".py",
   "mimetype": "text/x-python",
   "name": "python",
   "nbconvert_exporter": "python",
   "pygments_lexer": "ipython3",
   "version": "3.7.3"
  }
 },
 "nbformat": 4,
 "nbformat_minor": 4
}
